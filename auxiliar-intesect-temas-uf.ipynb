{
 "cells": [
  {
   "cell_type": "markdown",
   "metadata": {},
   "source": [
    "# Arquivos de temas por unidade da federação\n",
    "Cria os arquivos vetoriais através da intesecção dos divérsos temas com cada unidade da federação e cria uma camada vetorial de cada tema dissolvendo os polígonos para o cálculo da área total do tema na unidade da federação."
   ]
  },
  {
   "cell_type": "code",
   "execution_count": 1,
   "metadata": {},
   "outputs": [],
   "source": [
    "uf_analise = 'Pará'\n",
    "\n",
    "import geopandas as gpd\n",
    "import pandas as pd\n",
    "import locale\n",
    "import numpy as np\n",
    "import os\n",
    "import matplotlib.pyplot as plt\n",
    "import matplotlib.patches as patches\n",
    "from IPython.display import display, Markdown\n",
    "pd.options.display.float_format = '{:.4f}'.format\n",
    "pd.set_option('display.precision', 4)\n",
    "locale.setlocale(locale.LC_ALL, 'pt_BR.UTF-8')\n",
    "gpkgfile = '../glebas-federais.gpkg'\n",
    "uf = gpd.read_file(gpkgfile, layer='uf-brasil')\n",
    "uf_select = uf[uf['nm_uf']==uf_analise]\n",
    "glebas = gpd.read_file(gpkgfile, layer='glebas-mais-amazonia')\n",
    "area_estudo = gpd.read_file(gpkgfile, layer='area-estudo')\n",
    "sr_ponto = gpd.read_file(gpkgfile, layer='sr_incra')\n",
    "uc=gpd.read_file(gpkgfile, layer='uc')\n",
    "ti=gpd.read_file(gpkgfile, layer='ti-portarias')\n",
    "ti = ti.set_crs(4674, allow_override=True)\n",
    "pa = gpd.read_file(gpkgfile, layer='pa_brasil')\n",
    "tq = gpd.read_file(gpkgfile, layer='tq_brasil')\n",
    "sigef = gpd.read_file(gpkgfile, layer='sigef-particular')\n",
    "floresta=gpd.read_file(gpkgfile, layer='florestas-publicas')\n",
    "floresta = floresta[floresta['tipo']=='TIPO B']\n",
    "mun = gpd.read_file(gpkgfile, layer='municipios-area-estudo')\n",
    "area_uf = round(uf_select['area_km2'],4)"
   ]
  },
  {
   "cell_type": "markdown",
   "metadata": {},
   "source": [
    "## Criando as glebas por uf"
   ]
  },
  {
   "cell_type": "code",
   "execution_count": null,
   "metadata": {},
   "outputs": [],
   "source": [
    "estados = ['Acre', 'Amazonas', 'Rondônia', 'Amapá', 'Tocantins', \n",
    "           'Roraima', 'Pará', 'Maranhão', 'Mato Grosso']\n",
    "for estado in estados:\n",
    "    uf_select = uf[uf['nm_uf']==estado]\n",
    "    gleba_uf_clip = glebas.overlay(uf_select, how='intersection')\n",
    "    gleba_uf_clip.to_file(gpkgfile, layer=f'gleba-clip-{estado}')"
   ]
  },
  {
   "cell_type": "markdown",
   "metadata": {},
   "source": [
    "## Dissolvendo as glebas em polígono único"
   ]
  },
  {
   "cell_type": "code",
   "execution_count": null,
   "metadata": {},
   "outputs": [],
   "source": [
    "estados = ['Acre', 'Amazonas', 'Rondônia', 'Amapá', 'Tocantins',\n",
    "           'Roraima', 'Pará', 'Maranhão', 'Mato Grosso']\n",
    "for estado in estados:\n",
    "    gleba_uf_clip = gpd.read_file(gpkgfile, layer=f'gleba-clip-{estado}')\n",
    "    gleba_uf_clip = gleba_uf_clip.dissolve()\n",
    "    gleba_uf_clip.to_file(gpkgfile, layer=f'gleba-dissolv-{estado}')"
   ]
  },
  {
   "cell_type": "markdown",
   "metadata": {},
   "source": [
    "## Criando os arquivos de floresta pública"
   ]
  },
  {
   "cell_type": "code",
   "execution_count": null,
   "metadata": {},
   "outputs": [],
   "source": [
    "estados = ['Acre', 'Amazonas', 'Rondônia', 'Amapá', 'Tocantins', \n",
    "           'Roraima', 'Pará', 'Maranhão', 'Mato Grosso']\n",
    "for estado in estados:\n",
    "    uf_select = uf[uf['nm_uf']==estado]\n",
    "    floresta_B_uf = floresta[floresta['tipo']=='TIPO B'].overlay(uf_select, how='intersection')\n",
    "    floresta_dissolv = floresta_B_uf.dissolve()\n",
    "    floresta_B_uf.to_file(gpkgfile, layer=f'floresta-tipo-b-{estado}')\n",
    "    floresta_dissolv.to_file(gpkgfile, layer=f'floresta-tipo-b-dissolv-{estado}')"
   ]
  },
  {
   "cell_type": "markdown",
   "metadata": {},
   "source": [
    "## Criando arquivos de unidades de conservação"
   ]
  },
  {
   "cell_type": "code",
   "execution_count": null,
   "metadata": {},
   "outputs": [],
   "source": [
    "estados = ['Acre', 'Amazonas', 'Rondônia', 'Amapá', 'Tocantins', \n",
    "           'Roraima', 'Pará', 'Maranhão', 'Mato Grosso']\n",
    "for estado in estados:\n",
    "    uf_select = uf[uf['nm_uf']==estado]\n",
    "    uc_uf = uc.overlay(uf_select, how='intersection')\n",
    "    uc_dissolv = uc_uf.dissolve()\n",
    "    uc_uf.to_file(gpkgfile, layer=f'uc-{estado}')\n",
    "    uc_dissolv.to_file(gpkgfile, layer=f'uc-dissolv-{estado}')"
   ]
  },
  {
   "cell_type": "markdown",
   "metadata": {},
   "source": [
    "## Criando terra indigena"
   ]
  },
  {
   "cell_type": "code",
   "execution_count": null,
   "metadata": {},
   "outputs": [],
   "source": [
    "estados = ['Acre', 'Amazonas', 'Rondônia', 'Amapá', 'Tocantins', \n",
    "           'Roraima', 'Pará', 'Maranhão', 'Mato Grosso']\n",
    "for estado in estados:\n",
    "    uf_select = uf[uf['nm_uf']==estado]\n",
    "    ti_uf = ti.overlay(uf_select, how='intersection')\n",
    "    ti_dissolv = ti_uf.dissolve()\n",
    "    ti_uf.to_file(gpkgfile, layer=f'ti-{estado}')\n",
    "    ti_dissolv.to_file(gpkgfile, layer=f'ti-dissolv-{estado}')"
   ]
  },
  {
   "cell_type": "markdown",
   "metadata": {},
   "source": [
    "## Assentamento"
   ]
  },
  {
   "cell_type": "code",
   "execution_count": null,
   "metadata": {},
   "outputs": [],
   "source": [
    "estados = ['Acre', 'Amazonas', 'Rondônia', 'Amapá', 'Tocantins', \n",
    "           'Roraima', 'Pará', 'Maranhão', 'Mato Grosso']\n",
    "for estado in estados:\n",
    "    uf_select = uf[uf['nm_uf']==estado]\n",
    "    pa_uf = pa.overlay(uf_select, how='intersection')\n",
    "    pa_dissolv = pa_uf.dissolve()\n",
    "    pa_uf.to_file(gpkgfile, layer=f'pa-{estado}')\n",
    "    pa_dissolv.to_file(gpkgfile, layer=f'pa-dissolv-{estado}')"
   ]
  },
  {
   "cell_type": "markdown",
   "metadata": {},
   "source": [
    "## Quilombola"
   ]
  },
  {
   "cell_type": "code",
   "execution_count": null,
   "metadata": {},
   "outputs": [],
   "source": [
    "estados = ['Acre', 'Amazonas', 'Rondônia', 'Amapá', 'Tocantins', \n",
    "           'Roraima', 'Pará', 'Maranhão', 'Mato Grosso']\n",
    "for estado in estados:\n",
    "    uf_select = uf[uf['nm_uf']==estado]\n",
    "    tq_uf = tq.overlay(uf_select, how='intersection')\n",
    "    if tq_uf.shape[0] >0:\n",
    "        tq_dissolv = tq_uf.dissolve()\n",
    "        tq_uf.to_file(gpkgfile, layer=f'tq-{estado}')\n",
    "        tq_dissolv.to_file(gpkgfile, layer=f'tq-dissolv-{estado}')"
   ]
  },
  {
   "cell_type": "markdown",
   "metadata": {},
   "source": [
    "# SIGEF"
   ]
  },
  {
   "cell_type": "code",
   "execution_count": null,
   "metadata": {},
   "outputs": [],
   "source": [
    "estados = ['Acre', 'Amazonas', 'Rondônia', 'Amapá', 'Tocantins', \n",
    "           'Roraima', 'Pará', 'Maranhão', 'Mato Grosso']\n",
    "for estado in estados:\n",
    "    uf_select = uf[uf['nm_uf']==estado]\n",
    "    sigef_uf = sigef.overlay(uf_select, how='intersection')\n",
    "    sigef_dissolv = sigef_uf.dissolve()\n",
    "    sigef_uf.to_file(gpkgfile, layer=f'sigef-{estado}')\n",
    "    sigef_dissolv.to_file(gpkgfile, layer=f'sigef-dissolv-{estado}')"
   ]
  }
 ],
 "metadata": {
  "kernelspec": {
   "display_name": "base",
   "language": "python",
   "name": "python3"
  },
  "language_info": {
   "codemirror_mode": {
    "name": "ipython",
    "version": 3
   },
   "file_extension": ".py",
   "mimetype": "text/x-python",
   "name": "python",
   "nbconvert_exporter": "python",
   "pygments_lexer": "ipython3",
   "version": "3.11.5"
  }
 },
 "nbformat": 4,
 "nbformat_minor": 2
}
