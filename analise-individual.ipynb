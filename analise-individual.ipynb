{
 "cells": [
  {
   "cell_type": "code",
   "execution_count": 12,
   "metadata": {},
   "outputs": [],
   "source": [
    "import geopandas as gpd\n",
    "import pandas as pd\n",
    "import locale\n",
    "import numpy as np\n",
    "import os\n",
    "import matplotlib.pyplot as plt\n",
    "import matplotlib.patches as patches\n",
    "from IPython.display import display, Markdown\n",
    "pd.options.display.float_format = '{:.4f}'.format\n",
    "pd.set_option('display.precision', 4)\n",
    "locale.setlocale(locale.LC_ALL, 'pt_BR.UTF-8')\n",
    "import warnings\n",
    "warnings.filterwarnings('ignore')\n",
    "glebas = gpd.read_file('../glebas-federais.gpkg', layer='glebas-mais-amazonia')\n"
   ]
  },
  {
   "cell_type": "code",
   "execution_count": 13,
   "metadata": {},
   "outputs": [],
   "source": [
    "mun = gpd.read_file('../glebas-federais.gpkg', layer='municipios-area-estudo', \n",
    "                    include_fields=['nm_regiao', 'cd_uf', 'nm_uf', 'sigla', \n",
    "                                    'cd_mun', 'nm_mun'])\n",
    "glebas = gpd.read_file('../glebas-federais.gpkg', layer='glebas-mais-amazonia', \n",
    "                       include_fields=['gid','nome_gleba', 'area_ha', 'uf_nome'])\n",
    "glebas = glebas.set_index('gid')"
   ]
  },
  {
   "cell_type": "markdown",
   "metadata": {},
   "source": [
    "## Abrangência Municipal\n",
    "\n",
    "Criar geopackge com uma tabela pra cada gleba contendo os municípios que se interceptam com ela."
   ]
  },
  {
   "cell_type": "code",
   "execution_count": null,
   "metadata": {},
   "outputs": [],
   "source": [
    "for row in glebas.itertuples():\n",
    "    indice = int(row.Index)\n",
    "    gleba = glebas.loc[[indice]]\n",
    "    print(f' indice {indice}')\n",
    "    gleba = gleba.rename(columns={'nome_gleba':'Nome da Gleba',\n",
    "    'area_ha':'Área (ha)'})\n",
    "    municipio_gleba = mun.sjoin(gleba, how='inner')\n",
    "    municipio_gleba = municipio_gleba.rename(columns={'cd_uf':'Código da UF',\n",
    "    'nm_uf':'Estado', 'sigla':'UF', 'cd_mun':'Código do Município',\n",
    "    'nm_mun':'Nome do Município'})\n",
    "    gpd.GeoDataFrame(municipio_gleba).to_file('../municipios-glebas.gpkg', \n",
    "                                              layer=f'{indice}',\n",
    "                                              driver=\"GPKG\")"
   ]
  },
  {
   "cell_type": "markdown",
   "metadata": {},
   "source": [
    "## Unidades de Conservação"
   ]
  },
  {
   "cell_type": "code",
   "execution_count": null,
   "metadata": {},
   "outputs": [],
   "source": [
    "for row in glebas.itertuples():\n",
    "    indice = int(row.Index)\n",
    "    gleba = glebas.loc[[indice]]\n",
    "    print(f' indice {indice}')\n",
    "    uc=gpd.read_file('../glebas-federais.gpkg', layer='uc', mask=gleba)\n",
    "    uc_gleba = uc.overlay(gleba, how='intersection')\n",
    "    if uc_gleba.shape[0]>0:\n",
    "        uc_gleba['Área Sobreposta (ha)'] = (uc_gleba.to_crs(5880).area)/10000\n",
    "        uc_gleba = uc_gleba.rename(columns={'nome_uc1':'Nome',\n",
    "        'categori3':'Categoria','esfera5':'Responsabilidade'})\n",
    "        gpd.GeoDataFrame(uc_gleba).to_file('../uc-glebas.gpkg', \n",
    "                                              layer=f'{indice}',\n",
    "                                              driver=\"GPKG\")"
   ]
  },
  {
   "cell_type": "markdown",
   "metadata": {},
   "source": [
    "## Terra Indígenas"
   ]
  },
  {
   "cell_type": "code",
   "execution_count": null,
   "metadata": {},
   "outputs": [],
   "source": [
    "for row in glebas.itertuples():\n",
    "    indice = int(row.Index)\n",
    "    gleba = glebas.loc[[indice]]\n",
    "    print(f' indice {indice}')\n",
    "    ti=gpd.read_file('../glebas-federais.gpkg', layer='ti-portarias',\n",
    "                    mask=gleba)\n",
    "    ti = ti.set_crs(4674, allow_override=True)\n",
    "    ti_gleba = ti.overlay(gleba, how='intersection')\n",
    "    if ti_gleba.shape[0]>0:\n",
    "        ti_gleba['Área Sobreposta (ha)'] = (ti_gleba.to_crs(5880).area)/10000\n",
    "        ti_gleba = ti_gleba.rename(columns={'terrai_nom':'Nome',\n",
    "                                        'fase_ti':'Fase de Regularização'})\n",
    "        gpd.GeoDataFrame(ti_gleba).to_file('../ti-glebas.gpkg', \n",
    "                                              layer=f'{indice}',\n",
    "                                              driver=\"GPKG\")"
   ]
  },
  {
   "cell_type": "markdown",
   "metadata": {},
   "source": [
    "## Projetos de Assentamento"
   ]
  },
  {
   "cell_type": "code",
   "execution_count": null,
   "metadata": {},
   "outputs": [],
   "source": [
    "\n",
    "for row in glebas.itertuples():\n",
    "    indice = int(row.Index)\n",
    "    gleba = glebas.loc[[indice]]\n",
    "    print(f' indice {indice}')\n",
    "    pa = gpd.read_file('../glebas-federais.gpkg', layer='pa_brasil',\n",
    "                        mask=gleba)\n",
    "    pa_gleba = pa.overlay(gleba, how='intersection')\n",
    "    if pa_gleba.shape[0] > 0:\n",
    "        pa_gleba['Área Sobreposta (ha)'] = (pa_gleba.to_crs(5880).area)/10000\n",
    "        pa_gleba = pa_gleba.rename(columns={'cd_sipra':'SIPRA',\n",
    "                                'nome_proje':'Nome','municipio':'Município'})\n",
    "        gpd.GeoDataFrame(pa_gleba).to_file('../pa-glebas.gpkg', \n",
    "                                              layer=f'{indice}',\n",
    "                                              driver=\"GPKG\")"
   ]
  },
  {
   "cell_type": "markdown",
   "metadata": {},
   "source": [
    "## Território Quilombola"
   ]
  },
  {
   "cell_type": "code",
   "execution_count": null,
   "metadata": {},
   "outputs": [],
   "source": [
    "for row in glebas.itertuples():\n",
    "    indice = int(row.Index)\n",
    "    gleba = glebas.loc[[indice]]\n",
    "    print(f' indice {indice}')\n",
    "    tq = gpd.read_file('../glebas-federais.gpkg',\n",
    "                        layer='tq_brasil', mask=gleba)\n",
    "    tq_gleba = tq.overlay(gleba, how='intersection')\n",
    "    if tq_gleba.shape[0] >0:\n",
    "        tq_gleba['Área Sobreposta (ha)'] = (tq_gleba.to_crs(5880).area)/10000\n",
    "        tq_gleba = tq_gleba.rename(columns={'nm_comunid':'Nome',\n",
    "                'esfera':'Responsabilidade', 'fase':'Fase da Regularização'})\n",
    "        gpd.GeoDataFrame(tq_gleba).to_file('../tq-glebas.gpkg', \n",
    "                                              layer=f'{indice}',\n",
    "                                              driver=\"GPKG\")"
   ]
  },
  {
   "cell_type": "markdown",
   "metadata": {},
   "source": [
    "## SIGEF"
   ]
  },
  {
   "cell_type": "code",
   "execution_count": null,
   "metadata": {},
   "outputs": [],
   "source": [
    "for row in glebas.itertuples():\n",
    "    indice = int(row.Index)\n",
    "    gleba = glebas.loc[[indice]]\n",
    "    sigef = gpd.read_file('../glebas-federais.gpkg', layer='sigef-particular', mask=gleba)\n",
    "    print(f' indice {indice}')\n",
    "    sigef_gleba = sigef.overlay(gleba, how='intersection')\n",
    "    if sigef_gleba.shape[0] > 0:\n",
    "        sigef_gleba['Área Sobreposta (ha)'] = (sigef_gleba.to_crs(5880).area)/10000\n",
    "        sigef_gleba = sigef_gleba.rename(columns={'parcela_co':'Código SIGEF','natureza':'Natureza do Polígono'})\n",
    "        gpd.GeoDataFrame(sigef_gleba).to_file('../sigef-glebas.gpkg', \n",
    "                                              layer=f'{indice}',\n",
    "                                              driver=\"GPKG\")"
   ]
  },
  {
   "cell_type": "markdown",
   "metadata": {},
   "source": [
    "## SNCI"
   ]
  },
  {
   "cell_type": "code",
   "execution_count": null,
   "metadata": {},
   "outputs": [],
   "source": [
    "for row in glebas.itertuples():\n",
    "    indice = int(row.Index)\n",
    "    gleba = glebas.loc[[indice]]\n",
    "    snci = gpd.read_file('../glebas-federais.gpkg', layer='snci-particular', mask=gleba)\n",
    "    print(f' indice {indice}')\n",
    "    snci_gleba = snci.overlay(gleba, how='intersection')\n",
    "    if snci_gleba.shape[0] > 0:\n",
    "        snci_gleba['Área Sobreposta (ha)'] = (snci_gleba.to_crs(5880).area)/10000\n",
    "        snci_gleba = snci_gleba.rename(columns={'num_certif':'Código SNCI'})\n",
    "        gpd.GeoDataFrame(snci_gleba).to_file('../snci-glebas.gpkg', \n",
    "                                              layer=f'{indice}',\n",
    "                                              driver=\"GPKG\")"
   ]
  }
 ],
 "metadata": {
  "kernelspec": {
   "display_name": "base",
   "language": "python",
   "name": "python3"
  },
  "language_info": {
   "codemirror_mode": {
    "name": "ipython",
    "version": 3
   },
   "file_extension": ".py",
   "mimetype": "text/x-python",
   "name": "python",
   "nbconvert_exporter": "python",
   "pygments_lexer": "ipython3",
   "version": "3.12.2"
  }
 },
 "nbformat": 4,
 "nbformat_minor": 2
}
