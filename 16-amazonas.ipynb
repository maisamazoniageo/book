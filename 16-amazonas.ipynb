{
  "cells": [
    {
      "cell_type": "markdown",
      "metadata": {},
      "source": [
        "# Análise do Estado do Amazonas.\n",
        "\n",
        "\n",
        "## Informações Gerais.\n"
      ],
      "id": "5d32f2c0"
    },
    {
      "cell_type": "code",
      "metadata": {},
      "source": [
        "#| echo: false\n",
        "\n",
        "\n",
        "uf_analise = 'Amazonas'\n",
        "\n",
        "import geopandas as gpd\n",
        "import pandas as pd\n",
        "import locale\n",
        "import numpy as np\n",
        "import os\n",
        "import matplotlib.pyplot as plt\n",
        "from IPython.display import display, Markdown\n",
        "pd.options.display.float_format = '{:.4f}'.format\n",
        "pd.set_option('display.precision', 4)\n",
        "locale.setlocale(locale.LC_ALL, 'pt_BR.UTF-8')\n",
        "glebas = gpd.read_file('../glebas-federais.gpkg', layer='glebas-mais-amazonia')\n",
        "area_estudo = gpd.read_file('../glebas-federais.gpkg', layer='area-estudo')\n",
        "uf = gpd.read_file('../glebas-federais.gpkg', layer='uf-brasil')\n",
        "sr_ponto = gpd.read_file('../glebas-federais.gpkg', layer='sr_incra')\n",
        "uc=gpd.read_file('../glebas-federais.gpkg', layer='uc')\n",
        "ti=gpd.read_file('../glebas-federais.gpkg', layer='ti-portarias')\n",
        "ti = ti.set_crs(4674, allow_override=True)\n",
        "floresta=gpd.read_file('../glebas-federais.gpkg', layer='florestas-publicas')\n",
        "mun = gpd.read_file('../glebas-federais.gpkg', layer='municipios-area-estudo')"
      ],
      "id": "9f105c8a",
      "execution_count": null,
      "outputs": []
    },
    {
      "cell_type": "code",
      "metadata": {},
      "source": [
        "#| echo: false\n",
        "\n",
        "fig, ax = plt.subplots()\n",
        "area_estudo.plot(ax=ax,facecolor=\"none\", edgecolor=\"black\")\n",
        "uf[uf['amaz_legal']==1].plot(ax=ax, facecolor='none', edgecolor='red')\n",
        "uf_select = uf[uf['nm_uf']==uf_analise]\n",
        "uf_select.plot(ax=ax, alpha=0.5)\n",
        "plt.grid(visible=True)\n",
        "plt.xlabel('Longitude (°)')\n",
        "plt.ylabel('Latitude (°)')\n",
        "plt.show()\n",
        "\n",
        "\n",
        "# Verificar a necessidade de dados sobre o estado"
      ],
      "id": "3df2db8d",
      "execution_count": null,
      "outputs": []
    },
    {
      "cell_type": "markdown",
      "metadata": {},
      "source": [
        "## Glebas Federais na Unidade da Federação.\n",
        "\n",
        "### Área com Glebas Federais.\n"
      ],
      "id": "d387ed17"
    },
    {
      "cell_type": "code",
      "metadata": {},
      "source": [
        "#| echo: false\n",
        "gleba_uf = glebas.sjoin(uf_select, how='inner')\n",
        "fig_gleba2, ax_gleba2 = plt.subplots()\n",
        "gleba_uf_clip = gleba_uf.overlay(uf_select, how='intersection')\n",
        "gleba_uf_clip = gleba_uf_clip.dissolve()\n",
        "gleba_uf_clip.plot(ax=ax_gleba2, alpha=0.7)\n",
        "uf_select.plot(ax=ax_gleba2, facecolor='none', edgecolor='black')\n",
        "plt.grid(visible=True)\n",
        "plt.xlabel('Longitude (°)')\n",
        "plt.ylabel('Latitude (°)')\n",
        "plt.show()\n",
        "# cálculo de área em km2 policônica em km2\n",
        "gleba_uf_clip['area_clip']= (gleba_uf_clip.to_crs(5880).area)/1000000\n",
        "\n",
        "display(Markdown('### Tabela de Glebas Federais no estado e suas áreas'))\n",
        "gleba_uf_fim = gleba_uf_clip.groupby('nome_gleba').agg({\n",
        "    'area_clip':'sum'\n",
        "})\n",
        "\n",
        "#gleba_uf_fim.reset_index(inplace=True)\n",
        "\n",
        "#gleba_uf_fim.rename(columns={\n",
        "#    'nome_gleba':'Nome da Gleba Federal',\n",
        "#    'area_clip':'Área (km²)'\n",
        "#}).to_html(index=False)"
      ],
      "id": "98866056",
      "execution_count": null,
      "outputs": []
    },
    {
      "cell_type": "code",
      "metadata": {},
      "source": [
        "#| echo: false\n",
        "\n",
        "\n",
        "area_uf = round(uf_select['area_km2'],4)\n",
        "area_total_glebas = round(gleba_uf_clip['area_clip'].sum(),4)\n",
        "percentual_glebas = round((area_total_glebas/area_uf)*100,2)\n",
        "percentual_glebas = locale.currency(percentual_glebas.values[0], grouping=True, symbol=None)\n",
        "area_total_glebas = locale.currency(area_total_glebas, grouping=True, symbol=None)\n",
        "display(Markdown(f'### Área total de Glebas Federais no Estado do {uf_analise}: **{area_total_glebas} km²**'))\n",
        "\n",
        "display(Markdown(f'### Percentual do {uf_analise} ocupado por Glebas Federais: **{percentual_glebas} %**'))"
      ],
      "id": "d375fc87",
      "execution_count": null,
      "outputs": []
    },
    {
      "cell_type": "markdown",
      "metadata": {},
      "source": [
        "## Florestas Públicas.\n",
        "\n",
        "### Florestas Públicas não destinadas.\n",
        "\n",
        "Florestas Públicas do TIPO B (FPB) - São as florestas localizadas em áreas arrecadadas pelo Poder Público, mas que ainda não foram destinadas, de acordo com os dados baixados do Serviço Florestal Brasileiro.\n",
        "\n",
        "fonte: [Serviço Florestal Brasileiro](https://www.gov.br/agricultura/pt-br/assuntos/servico-florestal-brasileiro/cadastro-nacional-de-florestas-publicas){target=\"_blank\"}\n"
      ],
      "id": "25a532ab"
    },
    {
      "cell_type": "code",
      "metadata": {},
      "source": [
        "#| echo: false\n",
        "\n",
        "fig_flor, ax_flor = plt.subplots()\n",
        "# flrestas tipo B dentro da uf analisada\n",
        "floresta_B_uf = floresta[floresta['tipo']=='TIPO B'].overlay(uf_select, how='intersection')\n",
        "\n",
        "floresta_B_uf.plot(ax=ax_flor, alpha=0.6, column='tipo', legend=True,  \n",
        "                                          legend_kwds={'loc': 'center left',\n",
        "                                          'bbox_to_anchor':(1,0.5)})\n",
        "uf_select.plot(ax=ax_flor,facecolor=\"none\", edgecolor=\"black\")\n",
        "plt.grid(visible=True)\n",
        "plt.xlabel('Longitude (°)')\n",
        "plt.ylabel('Latitude (°)')\n",
        "plt.show()"
      ],
      "id": "b824ff4a",
      "execution_count": null,
      "outputs": []
    },
    {
      "cell_type": "code",
      "metadata": {},
      "source": [
        "#| echo: false\n",
        "# Recalculando a área das florestas no interior do estado policônica em km2\n",
        "floresta_B_uf['area_km'] = (floresta_B_uf.to_crs(5880).area)/1000000\n",
        "\n",
        "floresta_B_uf_area = floresta_B_uf['area_km'].sum()\n",
        "percentual_floresta_B = round((floresta_B_uf_area/area_uf)*100,2)\n",
        "floresta_B_uf_area = locale.currency(floresta_B_uf_area, grouping=True, symbol=None)\n",
        "percentual_floresta_B = locale.currency(percentual_floresta_B.values[0], grouping=True, symbol=None)\n",
        "\n",
        "display(Markdown(f'### Área de Florestas Públicas não destinadas no {uf_analise}: **{floresta_B_uf_area} km²**'))\n",
        "\n",
        "display(Markdown(f'### Percentual do {uf_analise} ocupado por Florestas Públicas não destinadas : **{percentual_floresta_B} %**'))"
      ],
      "id": "e79e7b09",
      "execution_count": null,
      "outputs": []
    },
    {
      "cell_type": "markdown",
      "metadata": {},
      "source": [
        "## Análise de Sobreposições.\n",
        "\n",
        "As análises de sobreposições visam mostrar a sobreposição entre as classes de áreas públicas existentes para que possamos determinar se a relação é concorrente ou não. A análise será elaborada tendo as Glebas Federais como ponto pincipal sendo comparadas com Florestas Públicas não destinadas, Terras Indígenas, Unidades de Conservação e Projetos de Assentamento.\n",
        "\n",
        "### Glebas Federais sobrepostas a Florestas Públicas não destinadas.\n",
        "\n",
        "#### Mapa Geral.\n"
      ],
      "id": "271e74be"
    },
    {
      "cell_type": "code",
      "metadata": {},
      "source": [
        "#| echo: false\n",
        "\n",
        "fig_gle_flo, ax_gle_flo = plt.subplots()\n",
        "uf_select.plot(ax=ax_gle_flo, facecolor='none', edgecolor='black', label='Estado')\n",
        "floresta_B_uf.plot(ax=ax_gle_flo, facecolor='orange', linewidth=0.3, label='Fleresta Pública')\n",
        "gleba_uf_clip.plot(ax=ax_gle_flo, alpha=0.5, label='Gleba Federal')\n",
        "\n",
        "\n",
        "plt.grid(visible=True)\n",
        "plt.xlabel('Longitude (°)')\n",
        "plt.ylabel('Latitude (°)')\n",
        "plt.show()"
      ],
      "id": "c9d0e38f",
      "execution_count": null,
      "outputs": []
    },
    {
      "cell_type": "markdown",
      "metadata": {},
      "source": [
        "### Glebas Federais com Floresta Pública não destinada.\n"
      ],
      "id": "90b874e6"
    },
    {
      "cell_type": "code",
      "metadata": {},
      "source": [
        "#| echo: false\n",
        "fig_gle_flo_clip, ax_gle_flo_clip = plt.subplots()\n",
        "uf_select.plot(ax=ax_gle_flo_clip, facecolor='none', edgecolor='black', label='Estado')\n",
        "gle_flo_clip = gleba_uf_clip.overlay(floresta_B_uf, how='intersection', keep_geom_tupe=False)\n",
        "gleba_uf_clip.plot(ax=ax_gle_flo_clip, facecolor='none', edgecolor='black', label='Gleba Federal')\n",
        "gle_flo_clip.plot(ax=ax_gle_flo_clip, alpha=0.5)\n",
        "plt.grid(visible=True)\n",
        "plt.xlabel('Longitude (°)')\n",
        "plt.ylabel('Latitude (°)')\n",
        "plt.show()"
      ],
      "id": "ed1050e1",
      "execution_count": null,
      "outputs": []
    },
    {
      "cell_type": "code",
      "metadata": {},
      "source": [
        "#| echo: false\n",
        "# Recalculando a área das glebas no interior das florestas policônica em km2\n",
        "gle_flo_clip['area_km2'] = (gle_flo_clip.to_crs(5880).area)/1000000\n",
        "\n",
        "gle_flo_clip_area = gle_flo_clip['area_km2'].sum()\n",
        "#percentual_floresta_B = round((floresta_B_uf_area/area_uf)*100,2)\n",
        "gle_flo_clip_area = locale.currency(gle_flo_clip_area, grouping=True, symbol=None)\n",
        "\n",
        "\n",
        "display(Markdown(f'### A área de Glebas Federais dentro das Florestas Públicas não destinadas  no Estado do {uf_analise} é de: **{gle_flo_clip_area} km²**'))"
      ],
      "id": "d78fb823",
      "execution_count": null,
      "outputs": []
    }
  ],
  "metadata": {
    "kernelspec": {
      "name": "python3",
      "language": "python",
      "display_name": "Python 3 (ipykernel)"
    }
  },
  "nbformat": 4,
  "nbformat_minor": 5
}